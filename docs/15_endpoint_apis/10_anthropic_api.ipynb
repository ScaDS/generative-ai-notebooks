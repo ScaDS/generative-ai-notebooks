{
 "cells": [
  {
   "cell_type": "markdown",
   "id": "0fad938c-d401-45c4-9cf7-45c3dcb2e92f",
   "metadata": {},
   "source": [
    "# Anthropic Claude\n",
    "In this notebook we will prompt the LLM [Claude](https://www.anthropic.com/api) from [anthropic](https://www.anthropic.com/)."
   ]
  },
  {
   "cell_type": "code",
   "execution_count": 1,
   "id": "1ca1a6da-0241-4eb2-9e7d-905765fbafe1",
   "metadata": {},
   "outputs": [],
   "source": [
    "import anthropic"
   ]
  },
  {
   "cell_type": "code",
   "execution_count": 2,
   "id": "464ae2b6-e44f-40b7-81ca-b00f2d9739af",
   "metadata": {},
   "outputs": [],
   "source": [
    "def prompt_claude(message:str, model=\"claude-3-5-sonnet-20240620\"):\n",
    "    \"\"\"\n",
    "    A prompt helper function that sends a message to anthropic\n",
    "    and returns only the text response.\n",
    "\n",
    "    Example models: claude-3-5-sonnet-20240620 or claude-3-opus-20240229\n",
    "    \"\"\"\n",
    "    from anthropic import Anthropic\n",
    "    \n",
    "    # convert message in the right format if necessary\n",
    "    if isinstance(message, str):\n",
    "        message = [{\"role\": \"user\", \"content\": message}]\n",
    "        \n",
    "    # setup connection to the LLM\n",
    "    client = Anthropic()\n",
    "    \n",
    "    message = client.messages.create(\n",
    "        max_tokens=4096,\n",
    "        messages=message,\n",
    "        model=model,\n",
    "    )\n",
    "\n",
    "    # extract answer\n",
    "    return message.content[0].text"
   ]
  },
  {
   "cell_type": "code",
   "execution_count": 3,
   "id": "dc571c61-3cad-40e7-83ec-662fd5beb2e9",
   "metadata": {},
   "outputs": [
    {
     "data": {
      "text/plain": [
       "'The capital of France is Paris.'"
      ]
     },
     "execution_count": 3,
     "metadata": {},
     "output_type": "execute_result"
    }
   ],
   "source": [
    "prompt_claude(\"What is the capital of France?\")"
   ]
  },
  {
   "cell_type": "markdown",
   "id": "9c9d0015-ddc9-4db4-8cea-ccba665c7c4d",
   "metadata": {},
   "source": [
    "## Listing available models\n"
   ]
  },
  {
   "cell_type": "code",
   "execution_count": 4,
   "id": "68ca66ee-6549-4671-a52b-927c71910ded",
   "metadata": {},
   "outputs": [
    {
     "name": "stdout",
     "output_type": "stream",
     "text": [
      "claude-opus-4-20250514\n",
      "claude-sonnet-4-20250514\n",
      "claude-3-7-sonnet-20250219\n",
      "claude-3-5-sonnet-20241022\n",
      "claude-3-5-haiku-20241022\n",
      "claude-3-5-sonnet-20240620\n",
      "claude-3-haiku-20240307\n",
      "claude-3-opus-20240229\n",
      "claude-3-sonnet-20240229\n",
      "claude-2.1\n",
      "claude-2.0\n"
     ]
    }
   ],
   "source": [
    "client = anthropic.Anthropic()\n",
    "models = client.models.list().data\n",
    "\n",
    "for m in models:\n",
    "    print(m.id)"
   ]
  },
  {
   "cell_type": "code",
   "execution_count": null,
   "id": "92345634-dc6a-4189-b325-564af1a4809d",
   "metadata": {},
   "outputs": [],
   "source": []
  }
 ],
 "metadata": {
  "kernelspec": {
   "display_name": "Python 3 (ipykernel)",
   "language": "python",
   "name": "python3"
  },
  "language_info": {
   "codemirror_mode": {
    "name": "ipython",
    "version": 3
   },
   "file_extension": ".py",
   "mimetype": "text/x-python",
   "name": "python",
   "nbconvert_exporter": "python",
   "pygments_lexer": "ipython3",
   "version": "3.11.11"
  }
 },
 "nbformat": 4,
 "nbformat_minor": 5
}
